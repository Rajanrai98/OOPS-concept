{
 "cells": [
  {
   "cell_type": "code",
   "execution_count": null,
   "id": "ce3f179f",
   "metadata": {},
   "outputs": [],
   "source": [
    "## interchange first and last element in the list\n",
    "\n",
    "l = [12,36,9,56,24]\n",
    "print(l)"
   ]
  },
  {
   "cell_type": "code",
   "execution_count": null,
   "id": "ec33133b",
   "metadata": {},
   "outputs": [],
   "source": [
    "len(l)"
   ]
  },
  {
   "cell_type": "code",
   "execution_count": null,
   "id": "e7ccaf24",
   "metadata": {},
   "outputs": [],
   "source": [
    "l = [12,36,9,56,24]\n",
    "\n",
    "def swaplist(l):\n",
    "    l[0],l[4] = l[4],l[0]\n",
    "    return l\n",
    "\n"
   ]
  },
  {
   "cell_type": "code",
   "execution_count": null,
   "id": "7aeb1da7",
   "metadata": {},
   "outputs": [],
   "source": [
    "swaplist(l)"
   ]
  },
  {
   "cell_type": "code",
   "execution_count": null,
   "id": "36389341",
   "metadata": {},
   "outputs": [],
   "source": [
    "l1 = [1,2,3]\n",
    "\n",
    "def swaplist(l1):\n",
    "    l1[0],l1[2] = l1[2],l1[0]\n",
    "    return l1"
   ]
  },
  {
   "cell_type": "code",
   "execution_count": null,
   "id": "31bb1578",
   "metadata": {},
   "outputs": [],
   "source": [
    "swaplist(l1)"
   ]
  },
  {
   "cell_type": "code",
   "execution_count": null,
   "id": "55a3bdff",
   "metadata": {},
   "outputs": [],
   "source": [
    "l2 = [56,27,34,39,13,50]\n",
    "\n",
    "def swaplist(l2):\n",
    "    l2[0],l2[5] = l2[5],l[0]\n",
    "    return l2"
   ]
  },
  {
   "cell_type": "code",
   "execution_count": null,
   "id": "b9988e7b",
   "metadata": {},
   "outputs": [],
   "source": [
    "swaplist(l2)"
   ]
  },
  {
   "cell_type": "code",
   "execution_count": null,
   "id": "78abf296",
   "metadata": {},
   "outputs": [],
   "source": [
    "l2 = [56,27,34,39,13,50]\n",
    "def swaplist(l2):\n",
    "    l2[3],l2[1] = l2[1],l2[3]\n",
    "    return l2"
   ]
  },
  {
   "cell_type": "code",
   "execution_count": null,
   "id": "cface7ce",
   "metadata": {},
   "outputs": [],
   "source": [
    "swaplist(l2)"
   ]
  },
  {
   "cell_type": "code",
   "execution_count": null,
   "id": "84086d3d",
   "metadata": {},
   "outputs": [],
   "source": [
    "## using * operand propose a change to iterable unpacking syntax , allowing to specify a catch-all name which will be assigned a list of all items not assigned to regular name.\n",
    "\n",
    "\n",
    "\n",
    "list1 = [1,2,3,4]\n",
    "a,*b,c = list1\n",
    "\n",
    "print(a)\n",
    "print(b)\n",
    "print(c)\n"
   ]
  },
  {
   "cell_type": "code",
   "execution_count": null,
   "id": "83ddc70e",
   "metadata": {},
   "outputs": [],
   "source": [
    "list1 = [2,3,4,5,6]\n",
    "a,*b,c = list1\n",
    "\n",
    "print(a)\n",
    "print(b)\n",
    "print(c)\n",
    "\n"
   ]
  },
  {
   "cell_type": "code",
   "execution_count": null,
   "id": "af162d71",
   "metadata": {},
   "outputs": [],
   "source": [
    "list1 = [2,3,4,5,6]\n",
    "*a,b,c = list1\n",
    "print(a)\n",
    "print(b)\n",
    "print(c)"
   ]
  },
  {
   "cell_type": "code",
   "execution_count": null,
   "id": "63d233cb",
   "metadata": {},
   "outputs": [],
   "source": [
    "list1 = [2,3,4,5,6]\n",
    "\n",
    "def swaplist(list1):\n",
    "    first = list1.pop(0)\n",
    "    last = list1.pop(-1)\n",
    "    \n",
    "    list.insert(0,last)\n",
    "    list.append(first)\n",
    "    \n",
    "    return list1"
   ]
  },
  {
   "cell_type": "code",
   "execution_count": null,
   "id": "e0d28bba",
   "metadata": {},
   "outputs": [],
   "source": [
    "list1 = [23,65,19,90]\n",
    "def swaplist(list1):\n",
    "    list1[0],list1[2] = list1[2],list1[0]\n",
    "    return list1"
   ]
  },
  {
   "cell_type": "code",
   "execution_count": null,
   "id": "bbb2d547",
   "metadata": {},
   "outputs": [],
   "source": [
    "swaplist(list1)"
   ]
  },
  {
   "cell_type": "code",
   "execution_count": null,
   "id": "b45490e7",
   "metadata": {},
   "outputs": [],
   "source": [
    "list1 = [1,2,3,4,5]\n",
    "def swaplist(list1):\n",
    "    list1[1],list1[4] = list1[4],list1[1]\n",
    "    return list1"
   ]
  },
  {
   "cell_type": "code",
   "execution_count": null,
   "id": "dab6daea",
   "metadata": {},
   "outputs": [],
   "source": [
    "swaplist(list1)"
   ]
  },
  {
   "cell_type": "code",
   "execution_count": null,
   "id": "28a7c978",
   "metadata": {},
   "outputs": [],
   "source": [
    "list1 = [23,65,19,90]\n",
    "def swaplist(list1):\n",
    "    list1[0],list1[2] = list1[2],list1[0]\n",
    "    return list1"
   ]
  },
  {
   "cell_type": "code",
   "execution_count": null,
   "id": "850e5d3d",
   "metadata": {},
   "outputs": [],
   "source": [
    "swaplist(list1)"
   ]
  },
  {
   "cell_type": "markdown",
   "id": "e48570eb",
   "metadata": {},
   "source": [
    "## introduction of the oops concept \n",
    "\n",
    "1. python is the obeject oriented programming language\n",
    "2. classes and features are the key features of OOPS.\n",
    "\n",
    "3. classes is the main building block and act as template for the object\n",
    "\n",
    "4. object is the collection of the data and function and are also called as instance of class or class variable\n",
    "5. in python everything is treated as object for example all integer variiable the we use in our program is an object of class int."
   ]
  },
  {
   "cell_type": "code",
   "execution_count": null,
   "id": "13515e6e",
   "metadata": {},
   "outputs": [],
   "source": [
    "fish_tuple = (\"blowfish\",\"clownfish\",\"catfish\",\"octopus\")\n",
    "\n",
    "fish_list = []\n",
    "\n",
    "for i in fish_tuple:\n",
    "     if i != \"octopus\":\n",
    "            fish_list.append(i)\n",
    "        \n",
    "print(fish_list)"
   ]
  },
  {
   "cell_type": "code",
   "execution_count": null,
   "id": "1c331145",
   "metadata": {},
   "outputs": [],
   "source": [
    "fish_tuple = (\"blow_fish\",\"clow_fish\",\"cat_fish\",\"octopus\")\n",
    "\n",
    "fish_list = []\n",
    "\n",
    "for i in fish_tuple:\n",
    "    if i != \"octopus\":\n",
    "        fish_list.append(i)\n",
    "        \n",
    "print(fish_list)"
   ]
  },
  {
   "cell_type": "code",
   "execution_count": null,
   "id": "3725035a",
   "metadata": {},
   "outputs": [],
   "source": [
    "burger_tuple = (\"alootikki_burger\",\"cheeze_burger\",\"mexican_burger\")\n",
    "\n",
    "burger_list = []\n",
    "\n",
    "for i in burger_tuple:\n",
    "    if i != \"mexican_burger\":\n",
    "        burger_list.append(i)\n",
    "        \n",
    "print(burger_list)"
   ]
  },
  {
   "cell_type": "code",
   "execution_count": 1,
   "id": "456fac45",
   "metadata": {},
   "outputs": [
    {
     "name": "stdout",
     "output_type": "stream",
     "text": [
      "count: 0\n",
      "count: 1\n",
      "count: 2\n",
      "count: 3\n",
      "count: 4\n"
     ]
    }
   ],
   "source": [
    "count = 0\n",
    "while count<5:\n",
    "    print(\"count:\",count)\n",
    "    count+=1\n",
    "    "
   ]
  },
  {
   "cell_type": "code",
   "execution_count": 5,
   "id": "92f8bd59",
   "metadata": {},
   "outputs": [
    {
     "name": "stdout",
     "output_type": "stream",
     "text": [
      "1 1 1 1 \n",
      "2 2 2 \n",
      "3 3 \n",
      "4 \n"
     ]
    }
   ],
   "source": [
    "for i in range(4):\n",
    "    for j in range(4):\n",
    "        if i<=j:\n",
    "            print(i+1 , end = \" \")\n",
    "    print()\n"
   ]
  },
  {
   "cell_type": "markdown",
   "id": "c9e33b52",
   "metadata": {},
   "source": [
    "### something new\n",
    "\n",
    "1. variable defined inside a class are called as class variable and function are called as method\n",
    "2. class variable and methods are together known as member of the class\n",
    "3. class member should be accessed through object or instance of class"
   ]
  },
  {
   "cell_type": "code",
   "execution_count": 6,
   "id": "a80c56c7",
   "metadata": {},
   "outputs": [
    {
     "name": "stdout",
     "output_type": "stream",
     "text": [
      "10\n",
      "20\n",
      "30\n"
     ]
    }
   ],
   "source": [
    "class sample:\n",
    "    x = 10\n",
    "    y = 20\n",
    "    \n",
    "s = sample()\n",
    "print(s.x)\n",
    "print(s.y)\n",
    "print(s.x+s.y)"
   ]
  },
  {
   "cell_type": "markdown",
   "id": "08803d83",
   "metadata": {},
   "source": [
    "### creating object\n",
    "1. once the class is created its member can be accessed by the object or instance of that class\n",
    "2. the process of creating the object is called class instantiation\n",
    "\n",
    "3. syntax:\n",
    "   obj1 = sample()\n",
    "   "
   ]
  },
  {
   "cell_type": "code",
   "execution_count": 7,
   "id": "104c32da",
   "metadata": {},
   "outputs": [
    {
     "name": "stdout",
     "output_type": "stream",
     "text": [
      "total marks: 256\n",
      "avg: 85.33333333333333\n"
     ]
    }
   ],
   "source": [
    "class student:\n",
    "    mark1,mark2,mark3= 77,89,90\n",
    "    def process(self):\n",
    "        sum1=self.mark1+self.mark2+self.mark3\n",
    "        avg = sum1/3\n",
    "        print(\"total marks:\",sum1)\n",
    "        print(\"avg:\",avg)\n",
    "        \n",
    "s = student()\n",
    "s.process()"
   ]
  },
  {
   "cell_type": "code",
   "execution_count": 8,
   "id": "7add3925",
   "metadata": {},
   "outputs": [
    {
     "name": "stdout",
     "output_type": "stream",
     "text": [
      "sum: 485\n",
      "avg: 161.66666666666666\n"
     ]
    }
   ],
   "source": [
    "class burger:\n",
    "    veg_burger, nonveg_burger = 235,250\n",
    "    def process(self):\n",
    "        sum = self.veg_burger+self.nonveg_burger\n",
    "        avg = sum/3\n",
    "        \n",
    "        print(\"sum:\",sum)\n",
    "        print(\"avg:\",avg)\n",
    "        \n",
    "        \n",
    "b = burger()\n",
    "b.process()"
   ]
  },
  {
   "cell_type": "code",
   "execution_count": 9,
   "id": "920b04b8",
   "metadata": {},
   "outputs": [
    {
     "name": "stdout",
     "output_type": "stream",
     "text": [
      "enter the english marks 79\n",
      "enter the hindi marks 65\n",
      "enter the science marks 88\n",
      "310\n",
      "103.33333333333333\n",
      "79\n"
     ]
    }
   ],
   "source": [
    "class student:\n",
    "    english = int(input(\"enter the english marks\"))\n",
    "    hindi = int(input(\"enter the hindi marks\"))\n",
    "    science = int(input(\"enter the science marks\"))\n",
    "    def p(self,evs):\n",
    "        total = self.english+self.hindi+self.science+evs\n",
    "        avg = total/3\n",
    "        print(total)\n",
    "        print(avg)\n",
    "        \n",
    "s = student()\n",
    "evs = 78\n",
    "s.p(evs)\n",
    "print(s.english)"
   ]
  },
  {
   "cell_type": "code",
   "execution_count": 11,
   "id": "97fa8830",
   "metadata": {},
   "outputs": [
    {
     "name": "stdout",
     "output_type": "stream",
     "text": [
      "enter the price 13\n",
      "enter the price 18\n",
      "enter the price 20\n",
      "enter the price 40\n",
      "116\n",
      "29.0\n"
     ]
    }
   ],
   "source": [
    "class cars:\n",
    "    venue = int(input(\"enter the price\"))\n",
    "    verna = int(input(\"enter the price\"))\n",
    "    creta = int(input(\"enter the price\"))\n",
    "    tuscan = int(input(\"enter the price\"))\n",
    "    \n",
    "    def price(self, alcazar):\n",
    "        price_sum = self.venue+self.verna+self.creta+self.tuscan+alcazar\n",
    "        avg = price_sum/4\n",
    "        \n",
    "        print(price_sum)\n",
    "        print(avg)\n",
    "        \n",
    "c = cars()\n",
    "alcazar = 25\n",
    "c.price(alcazar)\n",
    "\n",
    "        "
   ]
  },
  {
   "cell_type": "markdown",
   "id": "e1ed5aee",
   "metadata": {},
   "source": [
    "### constructor is a special function that is automatically executed when an object of class is created.\n",
    "\n",
    "1. __int__ act as a constructor in python\n",
    "\n",
    "2. it must begin and end with double underscore , this function will act as as ordinary function , the only difference between normal function and cunstructor , it is automatically executed when objecct is created.\n",
    "\n",
    "3. this is cconstructor function can be defined with or without arguments\n",
    "\n",
    "4. it is used to initiaize the class variables"
   ]
  },
  {
   "cell_type": "code",
   "execution_count": 12,
   "id": "3c29481e",
   "metadata": {},
   "outputs": [
    {
     "name": "stdout",
     "output_type": "stream",
     "text": [
      "This function is in parent class\n",
      "This function is in child class\n"
     ]
    }
   ],
   "source": [
    "class parent:\n",
    "    def func1(self):\n",
    "        print(\"This function is in parent class\")\n",
    "        \n",
    "        \n",
    "## Derived class:\n",
    "class child(parent):\n",
    "    def func2(self):\n",
    "        print(\"This function is in child class\")\n",
    "        \n",
    "        \n",
    "## drivers code\n",
    "object = child()\n",
    "object.func1()\n",
    "object.func2()"
   ]
  },
  {
   "cell_type": "code",
   "execution_count": 15,
   "id": "b58d0d01",
   "metadata": {},
   "outputs": [
    {
     "name": "stdout",
     "output_type": "stream",
     "text": [
      "father: ram\n",
      "mother: sita\n"
     ]
    }
   ],
   "source": [
    "## base class 1\n",
    "\n",
    "class mother:\n",
    "    mothername = \"\"\n",
    "    def mother(self):\n",
    "        print(self.mothername)\n",
    "        \n",
    "##base class - 2        \n",
    "        \n",
    "class father:\n",
    "    fathername = \"\"\n",
    "    def father(self):\n",
    "        print(self.fathername)\n",
    "        \n",
    "        \n",
    "## derived class\n",
    "\n",
    "class son(mother , father):\n",
    "    sonname = \"\"\n",
    "    def parents(self):\n",
    "        print(\"father:\",self.fathername)\n",
    "        print(\"mother:\",self.mothername)\n",
    "        \n",
    "        \n",
    "        \n",
    "s = son()\n",
    "s.mothername = \"sita\"\n",
    "s.fathername = \"ram\"\n",
    "s.parents()"
   ]
  },
  {
   "cell_type": "code",
   "execution_count": null,
   "id": "8b273400",
   "metadata": {},
   "outputs": [],
   "source": []
  }
 ],
 "metadata": {
  "kernelspec": {
   "display_name": "Python 3 (ipykernel)",
   "language": "python",
   "name": "python3"
  },
  "language_info": {
   "codemirror_mode": {
    "name": "ipython",
    "version": 3
   },
   "file_extension": ".py",
   "mimetype": "text/x-python",
   "name": "python",
   "nbconvert_exporter": "python",
   "pygments_lexer": "ipython3",
   "version": "3.10.9"
  }
 },
 "nbformat": 4,
 "nbformat_minor": 5
}
